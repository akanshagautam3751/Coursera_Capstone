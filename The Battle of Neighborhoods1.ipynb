{
    "nbformat_minor": 1, 
    "cells": [
        {
            "source": "# Capstone Project - The Battle of Neighborhoods (Week 1)", 
            "cell_type": "markdown", 
            "metadata": {}
        }, 
        {
            "source": "## The Problem", 
            "cell_type": "markdown", 
            "metadata": {}
        }, 
        {
            "source": "Which locality would be the suitable place to open a shopping center in the Canada? \n\nThere are many places in which many business persons setup a business and fail to get positive results on it.There may be many reasons for their failure.It may be Lack of resourses, Lack of planning or it may be a very competitive place where already many established business may be ruling that location where there is rare chance for the new commers to start a business and grab the customers attention, who are the regular customers of the established business in that location.Hence the project is all about recommending a perfect location to a person who wants to start their own business(Shopping Center) in location Canada.\n\nAt the end of this project we will be knowing the locations which are more suitable for starting a business, comparison of locations with respect to different restaurants,which are highly running.", 
            "cell_type": "markdown", 
            "metadata": {}
        }, 
        {
            "source": "## Business Understanding", 
            "cell_type": "markdown", 
            "metadata": {}
        }, 
        {
            "source": "Opening a shopping center in a place should be done strategically.\n\n* Firstly, you should know why to start off with a place in particular?\n* If a place is chosen, you must have a very clear understanding of who would your potential customers be?\n* You need to have a clear understanding of the customers spending patterns in that locality etc.\n* You need to take care of the legal aspects involved in that locality.", 
            "cell_type": "markdown", 
            "metadata": {}
        }, 
        {
            "source": "## Steps to follow:", 
            "cell_type": "markdown", 
            "metadata": {}
        }, 
        {
            "source": "In order to do the analysis and suggest the best location, following are the steps we have to follow :\n\nThe Wikipedia page was scraped using the BeautifulSoup library to build a pandas dataframe listing the cities, states, coordinates, area and population density. The dataframe was cleaned and processed appropriately.\n\nThe Foursquare API is then used to get the venues in Canada.Based on the categories of each venue as decided by the CEO, we have assigned weights to each of them and got the city that has the maximum weight.\n\nOnce the city is finalized, we again use Four Square API to get the venues within that city and assign weights to each category.We will now use K means to cluster the venues based on the category and get the coordinates of the cluster that has maximum weight which is also our preferred location to setup a gaming arcade.", 
            "cell_type": "markdown", 
            "metadata": {}
        }, 
        {
            "execution_count": null, 
            "cell_type": "code", 
            "metadata": {}, 
            "outputs": [], 
            "source": ""
        }, 
        {
            "execution_count": null, 
            "cell_type": "code", 
            "metadata": {}, 
            "outputs": [], 
            "source": ""
        }
    ], 
    "metadata": {
        "kernelspec": {
            "display_name": "Python 3.6", 
            "name": "python3", 
            "language": "python"
        }, 
        "language_info": {
            "mimetype": "text/x-python", 
            "nbconvert_exporter": "python", 
            "version": "3.6.8", 
            "name": "python", 
            "file_extension": ".py", 
            "pygments_lexer": "ipython3", 
            "codemirror_mode": {
                "version": 3, 
                "name": "ipython"
            }
        }
    }, 
    "nbformat": 4
}